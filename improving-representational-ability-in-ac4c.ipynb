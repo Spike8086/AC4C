{
 "cells": [
  {
   "cell_type": "markdown",
   "id": "b9e34e36",
   "metadata": {
    "papermill": {
     "duration": 0.013205,
     "end_time": "2023-06-15T01:27:57.099511",
     "exception": false,
     "start_time": "2023-06-15T01:27:57.086306",
     "status": "completed"
    },
    "tags": []
   },
   "source": [
    "# **Improving Representational Ability in N4-acetylcytidine(AC4C) Dataset using ResVariant**"
   ]
  },
  {
   "cell_type": "markdown",
   "id": "d633db50",
   "metadata": {
    "papermill": {
     "duration": 0.012342,
     "end_time": "2023-06-15T01:27:57.124825",
     "exception": false,
     "start_time": "2023-06-15T01:27:57.112483",
     "status": "completed"
    },
    "tags": []
   },
   "source": [
    "*Author:Jiawen Li (Spike8086)*\n"
   ]
  },
  {
   "cell_type": "markdown",
   "id": "1cfd4e15",
   "metadata": {
    "papermill": {
     "duration": 0.012378,
     "end_time": "2023-06-15T01:27:57.151232",
     "exception": false,
     "start_time": "2023-06-15T01:27:57.138854",
     "status": "completed"
    },
    "tags": []
   },
   "source": [
    "Copyright © [2023] [Jiawen Li]\n",
    "\n",
    "All rights reserved. This Kaggle Notebook and its contents are the property of [Jiawen Li] and are protected by copyright laws. Unauthorized use, reproduction or distribution of this Notebook or its contents is strictly prohibited. Any infringement of these rights may result in legal action."
   ]
  },
  {
   "cell_type": "markdown",
   "id": "692b07f0",
   "metadata": {
    "papermill": {
     "duration": 0.0123,
     "end_time": "2023-06-15T01:27:57.176185",
     "exception": false,
     "start_time": "2023-06-15T01:27:57.163885",
     "status": "completed"
    },
    "tags": []
   },
   "source": [
    "# Abstract"
   ]
  },
  {
   "cell_type": "markdown",
   "id": "1d090851",
   "metadata": {
    "papermill": {
     "duration": 0.012432,
     "end_time": "2023-06-15T01:27:57.201315",
     "exception": false,
     "start_time": "2023-06-15T01:27:57.188883",
     "status": "completed"
    },
    "tags": []
   },
   "source": [
    "**Abstract:The N4-acetylcytidine (AC4C) dataset is a challenging RNA dataset with classes divided into 2 (Negative/Positive) based on participation in mRNA translation. However, the process of AC4C is difficult to observe, and even highly encapsulated ensemble models may not be effective due to the size and cost of training.**\n",
    "\n",
    "**This paper proposes the use of Seq-to-Seq methods to replace K-mer feature embedding approaches in AC4C to reduce the model size and improve representational ability using a variant of the ResBlock layer. Additionally, the extreme imbalance of the AC4C dataset's sample numbers of each class requires a new formatted criterion to evaluate the model's performance. This research will compare several criteria, including accuracy and R-squared, and explain our methodology.**"
   ]
  },
  {
   "cell_type": "code",
   "execution_count": 1,
   "id": "123de51f",
   "metadata": {
    "execution": {
     "iopub.execute_input": "2023-06-15T01:27:57.228999Z",
     "iopub.status.busy": "2023-06-15T01:27:57.228523Z",
     "iopub.status.idle": "2023-06-15T01:28:07.211062Z",
     "shell.execute_reply": "2023-06-15T01:28:07.209829Z"
    },
    "papermill": {
     "duration": 9.999912,
     "end_time": "2023-06-15T01:28:07.213950",
     "exception": false,
     "start_time": "2023-06-15T01:27:57.214038",
     "status": "completed"
    },
    "tags": []
   },
   "outputs": [
    {
     "name": "stderr",
     "output_type": "stream",
     "text": [
      "/opt/conda/lib/python3.10/site-packages/tensorflow_io/python/ops/__init__.py:98: UserWarning: unable to load libtensorflow_io_plugins.so: unable to open file: libtensorflow_io_plugins.so, from paths: ['/opt/conda/lib/python3.10/site-packages/tensorflow_io/python/ops/libtensorflow_io_plugins.so']\n",
      "caused by: ['/opt/conda/lib/python3.10/site-packages/tensorflow_io/python/ops/libtensorflow_io_plugins.so: undefined symbol: _ZN3tsl6StatusC1EN10tensorflow5error4CodeESt17basic_string_viewIcSt11char_traitsIcEENS_14SourceLocationE']\n",
      "  warnings.warn(f\"unable to load libtensorflow_io_plugins.so: {e}\")\n",
      "/opt/conda/lib/python3.10/site-packages/tensorflow_io/python/ops/__init__.py:104: UserWarning: file system plugins are not loaded: unable to open file: libtensorflow_io.so, from paths: ['/opt/conda/lib/python3.10/site-packages/tensorflow_io/python/ops/libtensorflow_io.so']\n",
      "caused by: ['/opt/conda/lib/python3.10/site-packages/tensorflow_io/python/ops/libtensorflow_io.so: undefined symbol: _ZTVN10tensorflow13GcsFileSystemE']\n",
      "  warnings.warn(f\"file system plugins are not loaded: {e}\")\n"
     ]
    }
   ],
   "source": [
    "import itertools\n",
    "import numpy as np\n",
    "import tensorflow as tf"
   ]
  },
  {
   "cell_type": "code",
   "execution_count": 2,
   "id": "399bc1c4",
   "metadata": {
    "execution": {
     "iopub.execute_input": "2023-06-15T01:28:07.242492Z",
     "iopub.status.busy": "2023-06-15T01:28:07.241736Z",
     "iopub.status.idle": "2023-06-15T01:28:07.246797Z",
     "shell.execute_reply": "2023-06-15T01:28:07.245736Z"
    },
    "papermill": {
     "duration": 0.02168,
     "end_time": "2023-06-15T01:28:07.248935",
     "exception": false,
     "start_time": "2023-06-15T01:28:07.227255",
     "status": "completed"
    },
    "tags": []
   },
   "outputs": [],
   "source": [
    "def to_ls(gene):\n",
    "    return [g for g in gene]"
   ]
  },
  {
   "cell_type": "code",
   "execution_count": 3,
   "id": "0cbe8c7e",
   "metadata": {
    "execution": {
     "iopub.execute_input": "2023-06-15T01:28:07.276510Z",
     "iopub.status.busy": "2023-06-15T01:28:07.276111Z",
     "iopub.status.idle": "2023-06-15T01:28:07.290545Z",
     "shell.execute_reply": "2023-06-15T01:28:07.289565Z"
    },
    "papermill": {
     "duration": 0.031211,
     "end_time": "2023-06-15T01:28:07.293084",
     "exception": false,
     "start_time": "2023-06-15T01:28:07.261873",
     "status": "completed"
    },
    "tags": []
   },
   "outputs": [],
   "source": [
    "def shuffle(data1,data2):\n",
    "    mid=list(zip(data1, data2))\n",
    "    np.random.shuffle(mid)\n",
    "    return [t[0] for t in mid],[t[1] for t in mid]\n",
    "\n",
    "def load_AC4C(shffule,log=True):\n",
    "    train_text=[]\n",
    "    train_neg=open(\"/kaggle/input/ac4c-dataset/train_negatives.txt\",'r').readlines()\n",
    "    train_pos=open(\"/kaggle/input/ac4c-dataset/train_positives.txt\",'r').readlines()\n",
    "    train_text.extend([e[:-1] for e in train_neg])\n",
    "    train_text.extend([e[:-1] for e in train_pos])\n",
    "    x_train=[to_ls(d) for d in train_text]\n",
    "    y_train=[0 for i in range(len(train_neg))]\n",
    "    y_train.extend([1 for j in range(len(train_pos))])\n",
    "    \n",
    "    test_text=[]\n",
    "    test_neg=open(\"/kaggle/input/ac4c-dataset/test_negatives.txt\",'r').readlines()\n",
    "    test_pos=open(\"/kaggle/input/ac4c-dataset/test_positives.txt\",'r').readlines()\n",
    "    test_text.extend([e[:-1] for e in test_neg])\n",
    "    test_text.extend([e[:-1] for e in test_pos])\n",
    "    x_test=[to_ls(d) for d in test_text]\n",
    "    if log:\n",
    "        print(\"                   pos      neg\")\n",
    "        print('Train sample num:',len(test_pos),'    ',len(test_neg))\n",
    "        print('Test sample num: ',len(train_pos),'   ',len(train_neg))\n",
    "    \n",
    "    y_test=[0 for i in range(len(train_neg))]\n",
    "    y_test.extend([1 for j in range(len(train_pos))])\n",
    "    if shuffle:\n",
    "        x_train,y_train=shuffle(x_train,y_train)\n",
    "        x_test,y_test=shuffle(x_test,y_test)\n",
    "    return x_train,y_train,x_test,y_test"
   ]
  },
  {
   "cell_type": "code",
   "execution_count": 4,
   "id": "9c8fb34f",
   "metadata": {
    "execution": {
     "iopub.execute_input": "2023-06-15T01:28:07.321162Z",
     "iopub.status.busy": "2023-06-15T01:28:07.320759Z",
     "iopub.status.idle": "2023-06-15T01:28:09.913028Z",
     "shell.execute_reply": "2023-06-15T01:28:09.911695Z"
    },
    "papermill": {
     "duration": 2.609153,
     "end_time": "2023-06-15T01:28:09.915609",
     "exception": false,
     "start_time": "2023-06-15T01:28:07.306456",
     "status": "completed"
    },
    "tags": []
   },
   "outputs": [
    {
     "name": "stdout",
     "output_type": "stream",
     "text": [
      "                   pos      neg\n",
      "Train sample num: 469      4343\n",
      "Test sample num:  1160     10855\n"
     ]
    },
    {
     "data": {
      "text/plain": [
       "(12015, 415)"
      ]
     },
     "execution_count": 4,
     "metadata": {},
     "output_type": "execute_result"
    }
   ],
   "source": [
    "x_train,y_train,x_test,y_test=load_AC4C(True)\n",
    "np.asarray(x_train).shape"
   ]
  },
  {
   "cell_type": "markdown",
   "id": "e5fecbab",
   "metadata": {
    "papermill": {
     "duration": 0.01296,
     "end_time": "2023-06-15T01:28:09.941816",
     "exception": false,
     "start_time": "2023-06-15T01:28:09.928856",
     "status": "completed"
    },
    "tags": []
   },
   "source": [
    "# 1. Feature Embedding"
   ]
  },
  {
   "cell_type": "markdown",
   "id": "cb4bc82b",
   "metadata": {
    "papermill": {
     "duration": 0.013187,
     "end_time": "2023-06-15T01:28:09.968281",
     "exception": false,
     "start_time": "2023-06-15T01:28:09.955094",
     "status": "completed"
    },
    "tags": []
   },
   "source": [
    "**K-mer Embedding**"
   ]
  },
  {
   "cell_type": "markdown",
   "id": "e549d6ee",
   "metadata": {
    "papermill": {
     "duration": 0.012678,
     "end_time": "2023-06-15T01:28:09.994214",
     "exception": false,
     "start_time": "2023-06-15T01:28:09.981536",
     "status": "completed"
    },
    "tags": []
   },
   "source": [
    "> K-mer is an ancient RNA processing method that suggest in 2015\n",
    "\n",
    "        The method is to count all of combination of the possible features.\n",
    "\n",
    "        It's simple, but it works,notwithstanding the possible burden on embedding size."
   ]
  },
  {
   "cell_type": "code",
   "execution_count": 5,
   "id": "1f6eef05",
   "metadata": {
    "execution": {
     "iopub.execute_input": "2023-06-15T01:28:10.022717Z",
     "iopub.status.busy": "2023-06-15T01:28:10.022327Z",
     "iopub.status.idle": "2023-06-15T01:28:10.031101Z",
     "shell.execute_reply": "2023-06-15T01:28:10.029881Z"
    },
    "papermill": {
     "duration": 0.026169,
     "end_time": "2023-06-15T01:28:10.033755",
     "exception": false,
     "start_time": "2023-06-15T01:28:10.007586",
     "status": "completed"
    },
    "tags": []
   },
   "outputs": [],
   "source": [
    "def permuteUnique(data,nums):\n",
    "  return [''.join(x) for x in itertools.product(*[data] * nums)]\n",
    "\n",
    "def get_features(data):\n",
    "    return np.unique(data)\n",
    "\n",
    "def K_mer(data,permute_num):\n",
    "    result_features=[\"\".join([c for c in p]) for p in permuteUnique(get_features(data),permute_num)]\n",
    "    return [[\"\".join(d).count(f) for f in result_features] for d in data]"
   ]
  },
  {
   "cell_type": "code",
   "execution_count": 6,
   "id": "7abf61af",
   "metadata": {
    "execution": {
     "iopub.execute_input": "2023-06-15T01:28:10.062076Z",
     "iopub.status.busy": "2023-06-15T01:28:10.061668Z",
     "iopub.status.idle": "2023-06-15T01:28:15.356846Z",
     "shell.execute_reply": "2023-06-15T01:28:15.355388Z"
    },
    "papermill": {
     "duration": 5.312196,
     "end_time": "2023-06-15T01:28:15.359194",
     "exception": false,
     "start_time": "2023-06-15T01:28:10.046998",
     "status": "completed"
    },
    "tags": []
   },
   "outputs": [
    {
     "name": "stdout",
     "output_type": "stream",
     "text": [
      "(12015, 25)\n"
     ]
    }
   ],
   "source": [
    "permute_num=2\n",
    "kmer_embed=np.asarray(K_mer(x_train,permute_num))\n",
    "print(np.asarray(kmer_embed).shape)"
   ]
  },
  {
   "cell_type": "code",
   "execution_count": 7,
   "id": "5f539eac",
   "metadata": {
    "execution": {
     "iopub.execute_input": "2023-06-15T01:28:15.387645Z",
     "iopub.status.busy": "2023-06-15T01:28:15.387166Z",
     "iopub.status.idle": "2023-06-15T01:28:15.397342Z",
     "shell.execute_reply": "2023-06-15T01:28:15.395895Z"
    },
    "papermill": {
     "duration": 0.027707,
     "end_time": "2023-06-15T01:28:15.400111",
     "exception": false,
     "start_time": "2023-06-15T01:28:15.372404",
     "status": "completed"
    },
    "tags": []
   },
   "outputs": [
    {
     "data": {
      "text/plain": [
       "array([29, 22, 32,  0, 28, 36, 21, 10,  0, 25, 31, 24, 17,  0, 24,  0,  0,\n",
       "        0,  0,  0, 14, 25, 37,  0, 20])"
      ]
     },
     "execution_count": 7,
     "metadata": {},
     "output_type": "execute_result"
    }
   ],
   "source": [
    "kmer_embed[0]"
   ]
  },
  {
   "cell_type": "markdown",
   "id": "7168b079",
   "metadata": {
    "papermill": {
     "duration": 0.013001,
     "end_time": "2023-06-15T01:28:15.426601",
     "exception": false,
     "start_time": "2023-06-15T01:28:15.413600",
     "status": "completed"
    },
    "tags": []
   },
   "source": [
    "# 2.Construct models"
   ]
  },
  {
   "cell_type": "code",
   "execution_count": 8,
   "id": "da0e3480",
   "metadata": {
    "execution": {
     "iopub.execute_input": "2023-06-15T01:28:15.455016Z",
     "iopub.status.busy": "2023-06-15T01:28:15.454634Z",
     "iopub.status.idle": "2023-06-15T01:28:16.599555Z",
     "shell.execute_reply": "2023-06-15T01:28:16.598525Z"
    },
    "papermill": {
     "duration": 1.162355,
     "end_time": "2023-06-15T01:28:16.602359",
     "exception": false,
     "start_time": "2023-06-15T01:28:15.440004",
     "status": "completed"
    },
    "tags": []
   },
   "outputs": [],
   "source": [
    "from tensorflow.keras import layers,models,metrics\n",
    "import tensorflow as tf\n",
    "from sklearn.metrics import matthews_corrcoef\n",
    "def mcc(y_true, y_pred):\n",
    "    y_true = tf.cast(y_true, tf.bool)\n",
    "    y_pred = tf.cast(y_pred, tf.bool)\n",
    "    true_positives = tf.logical_and(y_true, y_pred)\n",
    "    true_negatives = tf.logical_and(tf.logical_not(y_true), tf.logical_not(y_pred))\n",
    "    false_positives = tf.logical_and(y_true, tf.logical_not(y_pred))\n",
    "    false_negatives = tf.logical_and(tf.logical_not(y_true), y_pred)\n",
    "    tp = tf.reduce_sum(tf.cast(true_positives, tf.float32))\n",
    "    tn = tf.reduce_sum(tf.cast(true_negatives, tf.float32))\n",
    "    fp = tf.reduce_sum(tf.cast(false_positives, tf.float32))\n",
    "    fn = tf.reduce_sum(tf.cast(false_negatives, tf.float32))\n",
    "    \n",
    "    if tp + tn + fp + fn == 0:\n",
    "        return 0.0\n",
    "    \n",
    "    numerator = tp * tn - fp * fn\n",
    "    denominator = tf.sqrt((tp + fp+ 10e-16) * (tp + fn+ 10e-16) * (tn + fp+ 10e-16) * (tn + fn)+ 10e-16) + 10e-16\n",
    "    return numerator / denominator\n",
    "\n",
    "\n",
    "general_metrics=[metrics.BinaryAccuracy(name='ACC'),\n",
    "                       metrics.SensitivityAtSpecificity(0.5, name='SN'),\n",
    "                       metrics.SpecificityAtSensitivity(0.5, name='SP'),\n",
    "                       mcc,\n",
    "                       metrics.AUC(name='ROC'),\n",
    "                       metrics.AUC(name='PRC', curve='PR')]"
   ]
  },
  {
   "cell_type": "markdown",
   "id": "423e7ba7",
   "metadata": {
    "papermill": {
     "duration": 0.01297,
     "end_time": "2023-06-15T01:28:16.629335",
     "exception": false,
     "start_time": "2023-06-15T01:28:16.616365",
     "status": "completed"
    },
    "tags": []
   },
   "source": [
    "# Hyper Parameters"
   ]
  },
  {
   "cell_type": "code",
   "execution_count": 9,
   "id": "a520c630",
   "metadata": {
    "execution": {
     "iopub.execute_input": "2023-06-15T01:28:16.658037Z",
     "iopub.status.busy": "2023-06-15T01:28:16.657637Z",
     "iopub.status.idle": "2023-06-15T01:28:16.663350Z",
     "shell.execute_reply": "2023-06-15T01:28:16.661929Z"
    },
    "papermill": {
     "duration": 0.022661,
     "end_time": "2023-06-15T01:28:16.665671",
     "exception": false,
     "start_time": "2023-06-15T01:28:16.643010",
     "status": "completed"
    },
    "tags": []
   },
   "outputs": [],
   "source": [
    "k=3\n",
    "layer_num=9\n",
    "lr=8e-5\n",
    "EPOCH=10\n",
    "BATCH_SIZE=128"
   ]
  },
  {
   "cell_type": "markdown",
   "id": "b6a4b219",
   "metadata": {
    "papermill": {
     "duration": 0.013141,
     "end_time": "2023-06-15T01:28:16.693099",
     "exception": false,
     "start_time": "2023-06-15T01:28:16.679958",
     "status": "completed"
    },
    "tags": []
   },
   "source": [
    "**Build MLP**"
   ]
  },
  {
   "cell_type": "code",
   "execution_count": 10,
   "id": "ca412b88",
   "metadata": {
    "execution": {
     "iopub.execute_input": "2023-06-15T01:28:16.722289Z",
     "iopub.status.busy": "2023-06-15T01:28:16.721608Z",
     "iopub.status.idle": "2023-06-15T01:28:23.470601Z",
     "shell.execute_reply": "2023-06-15T01:28:23.469287Z"
    },
    "papermill": {
     "duration": 6.76659,
     "end_time": "2023-06-15T01:28:23.473522",
     "exception": false,
     "start_time": "2023-06-15T01:28:16.706932",
     "status": "completed"
    },
    "tags": []
   },
   "outputs": [
    {
     "name": "stdout",
     "output_type": "stream",
     "text": [
      "Epoch 1/10\n",
      "94/94 [==============================] - 2s 6ms/step - loss: 0.4015 - ACC: 0.8993 - SN: 0.9716 - SP: 0.9716 - mcc: 0.0000e+00 - ROC: 0.9351 - PRC: 0.9186\n",
      "Epoch 2/10\n",
      "94/94 [==============================] - 0s 5ms/step - loss: 0.2441 - ACC: 0.9122 - SN: 0.9875 - SP: 0.9875 - mcc: 0.0000e+00 - ROC: 0.9620 - PRC: 0.9569\n",
      "Epoch 3/10\n",
      "94/94 [==============================] - 0s 5ms/step - loss: 0.2340 - ACC: 0.9149 - SN: 0.9885 - SP: 0.9885 - mcc: 0.0000e+00 - ROC: 0.9645 - PRC: 0.9607\n",
      "Epoch 4/10\n",
      "94/94 [==============================] - 0s 5ms/step - loss: 0.2315 - ACC: 0.9153 - SN: 0.9894 - SP: 0.9894 - mcc: 0.0000e+00 - ROC: 0.9654 - PRC: 0.9624\n",
      "Epoch 5/10\n",
      "94/94 [==============================] - 0s 5ms/step - loss: 0.2252 - ACC: 0.9170 - SN: 0.9912 - SP: 0.9912 - mcc: 0.0000e+00 - ROC: 0.9674 - PRC: 0.9656\n",
      "Epoch 6/10\n",
      "94/94 [==============================] - 0s 5ms/step - loss: 0.2220 - ACC: 0.9182 - SN: 0.9916 - SP: 0.9916 - mcc: 0.0000e+00 - ROC: 0.9683 - PRC: 0.9669\n",
      "Epoch 7/10\n",
      "94/94 [==============================] - 0s 5ms/step - loss: 0.2220 - ACC: 0.9167 - SN: 0.9918 - SP: 0.9918 - mcc: 0.0000e+00 - ROC: 0.9683 - PRC: 0.9666\n",
      "Epoch 8/10\n",
      "94/94 [==============================] - 0s 4ms/step - loss: 0.2191 - ACC: 0.9182 - SN: 0.9925 - SP: 0.9925 - mcc: 0.0000e+00 - ROC: 0.9694 - PRC: 0.9681\n",
      "Epoch 9/10\n",
      "94/94 [==============================] - 0s 4ms/step - loss: 0.2183 - ACC: 0.9179 - SN: 0.9921 - SP: 0.9921 - mcc: 0.0000e+00 - ROC: 0.9696 - PRC: 0.9685\n",
      "Epoch 10/10\n",
      "94/94 [==============================] - 0s 5ms/step - loss: 0.2171 - ACC: 0.9194 - SN: 0.9922 - SP: 0.9922 - mcc: 0.0000e+00 - ROC: 0.9700 - PRC: 0.9688\n"
     ]
    }
   ],
   "source": [
    "import keras\n",
    "from keras.metrics import *\n",
    "\n",
    "\n",
    "input_num=np.asarray(kmer_embed).shape[1]\n",
    "baseline=models.Sequential([layers.Dense(input_num),\n",
    "                layers.Dense(128),\n",
    "                layers.LeakyReLU(0.2),      \n",
    "                layers.Dense(128),\n",
    "                layers.LeakyReLU(0.2),\n",
    "                layers.Dense(128),\n",
    "                layers.LeakyReLU(0.2),\n",
    "                 layers.Dense(2, activation='softmax')\n",
    "                           ])\n",
    "\n",
    "from keras.optimizers import *\n",
    "\n",
    "baseline.compile( \n",
    "    optimizer = Adam(learning_rate=lr),\n",
    "    loss = 'categorical_crossentropy',\n",
    "    metrics=general_metrics\n",
    ")\n",
    "his_base=baseline.fit(\n",
    "    tf.convert_to_tensor(kmer_embed),\n",
    "    tf.convert_to_tensor(keras.utils.to_categorical(y_train, num_classes=2)),\n",
    "    epochs=EPOCH,\n",
    "    batch_size=BATCH_SIZE\n",
    ")"
   ]
  },
  {
   "cell_type": "markdown",
   "id": "ca89c79b",
   "metadata": {
    "papermill": {
     "duration": 0.023725,
     "end_time": "2023-06-15T01:28:23.520856",
     "exception": false,
     "start_time": "2023-06-15T01:28:23.497131",
     "status": "completed"
    },
    "tags": []
   },
   "source": [
    "**Build CNN**"
   ]
  },
  {
   "cell_type": "code",
   "execution_count": 11,
   "id": "ba68a547",
   "metadata": {
    "execution": {
     "iopub.execute_input": "2023-06-15T01:28:23.569824Z",
     "iopub.status.busy": "2023-06-15T01:28:23.569390Z",
     "iopub.status.idle": "2023-06-15T01:28:29.467792Z",
     "shell.execute_reply": "2023-06-15T01:28:29.466320Z"
    },
    "papermill": {
     "duration": 5.92599,
     "end_time": "2023-06-15T01:28:29.470577",
     "exception": false,
     "start_time": "2023-06-15T01:28:23.544587",
     "status": "completed"
    },
    "tags": []
   },
   "outputs": [
    {
     "name": "stdout",
     "output_type": "stream",
     "text": [
      "Epoch 1/10\n",
      "94/94 [==============================] - 2s 5ms/step - loss: 0.4801 - ACC: 0.8889 - SN: 0.9690 - SP: 0.9690 - mcc: 0.0000e+00 - ROC: 0.9300 - PRC: 0.9136\n",
      "Epoch 2/10\n",
      "94/94 [==============================] - 0s 5ms/step - loss: 0.2714 - ACC: 0.9035 - SN: 0.9833 - SP: 0.9833 - mcc: 0.0000e+00 - ROC: 0.9521 - PRC: 0.9459\n",
      "Epoch 3/10\n",
      "94/94 [==============================] - 0s 5ms/step - loss: 0.2622 - ACC: 0.9050 - SN: 0.9854 - SP: 0.9854 - mcc: 0.0000e+00 - ROC: 0.9557 - PRC: 0.9512\n",
      "Epoch 4/10\n",
      "94/94 [==============================] - 0s 5ms/step - loss: 0.2570 - ACC: 0.9069 - SN: 0.9869 - SP: 0.9869 - mcc: 0.0000e+00 - ROC: 0.9576 - PRC: 0.9539\n",
      "Epoch 5/10\n",
      "94/94 [==============================] - 0s 4ms/step - loss: 0.2538 - ACC: 0.9087 - SN: 0.9875 - SP: 0.9875 - mcc: 0.0000e+00 - ROC: 0.9585 - PRC: 0.9552\n",
      "Epoch 6/10\n",
      "94/94 [==============================] - 0s 4ms/step - loss: 0.2520 - ACC: 0.9077 - SN: 0.9869 - SP: 0.9869 - mcc: 0.0000e+00 - ROC: 0.9592 - PRC: 0.9560\n",
      "Epoch 7/10\n",
      "94/94 [==============================] - 0s 4ms/step - loss: 0.2497 - ACC: 0.9107 - SN: 0.9885 - SP: 0.9885 - mcc: 0.0000e+00 - ROC: 0.9600 - PRC: 0.9571\n",
      "Epoch 8/10\n",
      "94/94 [==============================] - 0s 5ms/step - loss: 0.2483 - ACC: 0.9101 - SN: 0.9885 - SP: 0.9885 - mcc: 0.0000e+00 - ROC: 0.9605 - PRC: 0.9577\n",
      "Epoch 9/10\n",
      "94/94 [==============================] - 0s 4ms/step - loss: 0.2478 - ACC: 0.9091 - SN: 0.9881 - SP: 0.9881 - mcc: 0.0000e+00 - ROC: 0.9608 - PRC: 0.9582\n",
      "Epoch 10/10\n",
      "94/94 [==============================] - 0s 5ms/step - loss: 0.2472 - ACC: 0.9079 - SN: 0.9885 - SP: 0.9885 - mcc: 0.0000e+00 - ROC: 0.9611 - PRC: 0.9583\n"
     ]
    }
   ],
   "source": [
    "format_size=5\n",
    "cnn=models.Sequential([layers.Conv1D(2, 2, padding=\"same\",input_shape=(format_size,format_size)),\n",
    "                layers.Flatten(),\n",
    "                layers.Dense(128),\n",
    "                layers.LeakyReLU(0.2),      \n",
    "                layers.Dense(128),\n",
    "                layers.LeakyReLU(0.2),\n",
    "                layers.Dense(128),\n",
    "                layers.LeakyReLU(0.2),\n",
    "                layers.Dense(2, activation='softmax')\n",
    "                           ])\n",
    "cnn.compile( \n",
    "    optimizer = Adam(learning_rate=lr),\n",
    "    loss = 'categorical_crossentropy',\n",
    "    metrics=general_metrics\n",
    ")\n",
    "\n",
    "his_cnn=cnn.fit(\n",
    "    tf.convert_to_tensor(kmer_embed.reshape([len(kmer_embed),format_size,format_size])),\n",
    "    tf.convert_to_tensor(keras.utils.to_categorical(y_train, num_classes=2)),\n",
    "    epochs=EPOCH,\n",
    "    batch_size=BATCH_SIZE\n",
    ")"
   ]
  },
  {
   "cell_type": "markdown",
   "id": "052a638a",
   "metadata": {
    "papermill": {
     "duration": 0.033489,
     "end_time": "2023-06-15T01:28:29.537012",
     "exception": false,
     "start_time": "2023-06-15T01:28:29.503523",
     "status": "completed"
    },
    "tags": []
   },
   "source": [
    "**Build VAE**"
   ]
  },
  {
   "cell_type": "code",
   "execution_count": 12,
   "id": "90c03c5b",
   "metadata": {
    "execution": {
     "iopub.execute_input": "2023-06-15T01:28:29.604407Z",
     "iopub.status.busy": "2023-06-15T01:28:29.603212Z",
     "iopub.status.idle": "2023-06-15T01:28:40.442120Z",
     "shell.execute_reply": "2023-06-15T01:28:40.440861Z"
    },
    "papermill": {
     "duration": 10.875219,
     "end_time": "2023-06-15T01:28:40.444641",
     "exception": false,
     "start_time": "2023-06-15T01:28:29.569422",
     "status": "completed"
    },
    "tags": []
   },
   "outputs": [
    {
     "name": "stdout",
     "output_type": "stream",
     "text": [
      "Epoch 1/40\n",
      "94/94 [==============================] - 1s 2ms/step - loss: 22.9144\n",
      "Epoch 2/40\n",
      "94/94 [==============================] - 0s 2ms/step - loss: 5.2786\n",
      "Epoch 3/40\n",
      "94/94 [==============================] - 0s 2ms/step - loss: 4.6780\n",
      "Epoch 4/40\n",
      "94/94 [==============================] - 0s 2ms/step - loss: 4.3824\n",
      "Epoch 5/40\n",
      "94/94 [==============================] - 0s 2ms/step - loss: 4.1206\n",
      "Epoch 6/40\n",
      "94/94 [==============================] - 0s 2ms/step - loss: 4.1074\n",
      "Epoch 7/40\n",
      "94/94 [==============================] - 0s 2ms/step - loss: 4.0039\n",
      "Epoch 8/40\n",
      "94/94 [==============================] - 0s 2ms/step - loss: 4.0452\n",
      "Epoch 9/40\n",
      "94/94 [==============================] - 0s 2ms/step - loss: 3.9446\n",
      "Epoch 10/40\n",
      "94/94 [==============================] - 0s 3ms/step - loss: 3.9699\n",
      "Epoch 11/40\n",
      "94/94 [==============================] - 0s 2ms/step - loss: 3.8793\n",
      "Epoch 12/40\n",
      "94/94 [==============================] - 0s 3ms/step - loss: 3.7742\n",
      "Epoch 13/40\n",
      "94/94 [==============================] - 0s 3ms/step - loss: 3.7912\n",
      "Epoch 14/40\n",
      "94/94 [==============================] - 0s 3ms/step - loss: 3.7436\n",
      "Epoch 15/40\n",
      "94/94 [==============================] - 0s 2ms/step - loss: 3.8549\n",
      "Epoch 16/40\n",
      "94/94 [==============================] - 0s 2ms/step - loss: 3.7077\n",
      "Epoch 17/40\n",
      "94/94 [==============================] - 0s 2ms/step - loss: 3.7047\n",
      "Epoch 18/40\n",
      "94/94 [==============================] - 0s 2ms/step - loss: 3.6881\n",
      "Epoch 19/40\n",
      "94/94 [==============================] - 0s 2ms/step - loss: 3.6827\n",
      "Epoch 20/40\n",
      "94/94 [==============================] - 0s 2ms/step - loss: 3.7698\n",
      "Epoch 21/40\n",
      "94/94 [==============================] - 0s 2ms/step - loss: 3.7069\n",
      "Epoch 22/40\n",
      "94/94 [==============================] - 0s 2ms/step - loss: 3.6340\n",
      "Epoch 23/40\n",
      "94/94 [==============================] - 0s 2ms/step - loss: 3.7041\n",
      "Epoch 24/40\n",
      "94/94 [==============================] - 0s 2ms/step - loss: 3.8112\n",
      "Epoch 25/40\n",
      "94/94 [==============================] - 0s 2ms/step - loss: 3.6593\n",
      "Epoch 26/40\n",
      "94/94 [==============================] - 0s 2ms/step - loss: 3.6136\n",
      "Epoch 27/40\n",
      "94/94 [==============================] - 0s 2ms/step - loss: 3.6120\n",
      "Epoch 28/40\n",
      "94/94 [==============================] - 0s 2ms/step - loss: 3.5662\n",
      "Epoch 29/40\n",
      "94/94 [==============================] - 0s 2ms/step - loss: 3.5452\n",
      "Epoch 30/40\n",
      "94/94 [==============================] - 0s 2ms/step - loss: 3.7114\n",
      "Epoch 31/40\n",
      "94/94 [==============================] - 0s 2ms/step - loss: 3.5222\n",
      "Epoch 32/40\n",
      "94/94 [==============================] - 0s 2ms/step - loss: 3.6338\n",
      "Epoch 33/40\n",
      "94/94 [==============================] - 0s 2ms/step - loss: 3.5934\n",
      "Epoch 34/40\n",
      "94/94 [==============================] - 0s 2ms/step - loss: 3.5910\n",
      "Epoch 35/40\n",
      "94/94 [==============================] - 0s 2ms/step - loss: 3.5509\n",
      "Epoch 36/40\n",
      "94/94 [==============================] - 0s 2ms/step - loss: 3.5552\n",
      "Epoch 37/40\n",
      "94/94 [==============================] - 0s 2ms/step - loss: 3.4966\n",
      "Epoch 38/40\n",
      "94/94 [==============================] - 0s 2ms/step - loss: 3.5636\n",
      "Epoch 39/40\n",
      "94/94 [==============================] - 0s 2ms/step - loss: 3.5605\n",
      "Epoch 40/40\n",
      "94/94 [==============================] - 0s 2ms/step - loss: 3.4747\n"
     ]
    },
    {
     "data": {
      "text/plain": [
       "<keras.callbacks.History at 0x7ee5ed5621a0>"
      ]
     },
     "execution_count": 12,
     "metadata": {},
     "output_type": "execute_result"
    }
   ],
   "source": [
    "encoder=models.Sequential([\n",
    "                layers.Conv1D(2, 2, padding=\"same\",input_shape=(format_size,format_size)),\n",
    "                layers.Flatten(),\n",
    "                layers.Dense(128),\n",
    "                layers.LeakyReLU(0.2),      \n",
    "                layers.Dense(format_size**2),\n",
    "                layers.LeakyReLU(0.2)\n",
    "                ])\n",
    "encoder.compile( \n",
    "    optimizer = Adam(learning_rate=lr*320),\n",
    "    loss = 'mse'\n",
    ")\n",
    "\n",
    "encoder.fit(\n",
    "    tf.convert_to_tensor(kmer_embed.reshape([len(kmer_embed),format_size,format_size])),\n",
    "    tf.convert_to_tensor(kmer_embed),\n",
    "    epochs=EPOCH*4,\n",
    "    batch_size=BATCH_SIZE\n",
    ")"
   ]
  },
  {
   "cell_type": "code",
   "execution_count": 13,
   "id": "0ac8dac4",
   "metadata": {
    "execution": {
     "iopub.execute_input": "2023-06-15T01:28:40.557939Z",
     "iopub.status.busy": "2023-06-15T01:28:40.557142Z",
     "iopub.status.idle": "2023-06-15T01:28:44.659930Z",
     "shell.execute_reply": "2023-06-15T01:28:44.658682Z"
    },
    "papermill": {
     "duration": 4.161588,
     "end_time": "2023-06-15T01:28:44.662400",
     "exception": false,
     "start_time": "2023-06-15T01:28:40.500812",
     "status": "completed"
    },
    "tags": []
   },
   "outputs": [
    {
     "name": "stdout",
     "output_type": "stream",
     "text": [
      "Epoch 1/10\n",
      "94/94 [==============================] - 2s 3ms/step - loss: 0.7149 - ACC: 0.8695 - SN: 0.9574 - SP: 0.9574 - mcc: 0.0000e+00 - ROC: 0.9098 - PRC: 0.8852\n",
      "Epoch 2/10\n",
      "94/94 [==============================] - 0s 3ms/step - loss: 0.3321 - ACC: 0.8877 - SN: 0.9773 - SP: 0.9773 - mcc: 0.0000e+00 - ROC: 0.9389 - PRC: 0.9313\n",
      "Epoch 3/10\n",
      "94/94 [==============================] - 0s 3ms/step - loss: 0.2823 - ACC: 0.9047 - SN: 0.9824 - SP: 0.9824 - mcc: 0.0000e+00 - ROC: 0.9519 - PRC: 0.9451\n",
      "Epoch 4/10\n",
      "94/94 [==============================] - 0s 3ms/step - loss: 0.2678 - ACC: 0.9076 - SN: 0.9846 - SP: 0.9846 - mcc: 0.0000e+00 - ROC: 0.9551 - PRC: 0.9486\n",
      "Epoch 5/10\n",
      "94/94 [==============================] - 0s 3ms/step - loss: 0.2598 - ACC: 0.9084 - SN: 0.9851 - SP: 0.9851 - mcc: 0.0000e+00 - ROC: 0.9572 - PRC: 0.9519\n",
      "Epoch 6/10\n",
      "94/94 [==============================] - 0s 3ms/step - loss: 0.2528 - ACC: 0.9112 - SN: 0.9867 - SP: 0.9867 - mcc: 0.0000e+00 - ROC: 0.9589 - PRC: 0.9539\n",
      "Epoch 7/10\n",
      "94/94 [==============================] - 0s 3ms/step - loss: 0.2511 - ACC: 0.9094 - SN: 0.9873 - SP: 0.9873 - mcc: 0.0000e+00 - ROC: 0.9597 - PRC: 0.9553\n",
      "Epoch 8/10\n",
      "94/94 [==============================] - 0s 3ms/step - loss: 0.2438 - ACC: 0.9119 - SN: 0.9879 - SP: 0.9879 - mcc: 0.0000e+00 - ROC: 0.9614 - PRC: 0.9574\n",
      "Epoch 9/10\n",
      "94/94 [==============================] - 0s 3ms/step - loss: 0.2427 - ACC: 0.9129 - SN: 0.9873 - SP: 0.9873 - mcc: 0.0000e+00 - ROC: 0.9619 - PRC: 0.9583\n",
      "Epoch 10/10\n",
      "94/94 [==============================] - 0s 3ms/step - loss: 0.2397 - ACC: 0.9128 - SN: 0.9878 - SP: 0.9878 - mcc: 0.0000e+00 - ROC: 0.9629 - PRC: 0.9597\n"
     ]
    },
    {
     "data": {
      "text/plain": [
       "<keras.callbacks.History at 0x7ee5ecc47a00>"
      ]
     },
     "execution_count": 13,
     "metadata": {},
     "output_type": "execute_result"
    }
   ],
   "source": [
    "from keras.models import Model\n",
    "mid_result=[l.output for l in encoder.layers]\n",
    "encoder_final=Model(inputs=encoder.input, outputs=mid_result[-2])\n",
    "mid_data=encoder_final(kmer_embed.reshape([len(kmer_embed),format_size,format_size]))\n",
    "decoder=models.Sequential([\n",
    "                layers.Dense(mid_data.shape[1]),\n",
    "                layers.LeakyReLU(0.2),\n",
    "                layers.Dense(128),\n",
    "                layers.LeakyReLU(0.2),\n",
    "                layers.Dense(2, activation='softmax')\n",
    "                ])\n",
    "decoder.compile(\n",
    "    optimizer = Adam(learning_rate=lr),\n",
    "    loss = 'categorical_crossentropy',\n",
    "    metrics=general_metrics\n",
    ")\n",
    "decoder.fit(mid_data,\n",
    "            keras.utils.to_categorical(y_train,num_classes=2),\n",
    "            epochs=EPOCH,\n",
    "            batch_size=BATCH_SIZE\n",
    ")"
   ]
  },
  {
   "cell_type": "code",
   "execution_count": 14,
   "id": "46445122",
   "metadata": {
    "execution": {
     "iopub.execute_input": "2023-06-15T01:28:44.791559Z",
     "iopub.status.busy": "2023-06-15T01:28:44.791103Z",
     "iopub.status.idle": "2023-06-15T01:28:49.645131Z",
     "shell.execute_reply": "2023-06-15T01:28:49.643924Z"
    },
    "papermill": {
     "duration": 4.922174,
     "end_time": "2023-06-15T01:28:49.647781",
     "exception": false,
     "start_time": "2023-06-15T01:28:44.725607",
     "status": "completed"
    },
    "tags": []
   },
   "outputs": [
    {
     "name": "stdout",
     "output_type": "stream",
     "text": [
      "Epoch 1/10\n",
      "94/94 [==============================] - 2s 3ms/step - loss: 0.2389 - ACC: 0.9130 - SN: 0.9883 - SP: 0.9883 - mcc: 0.0000e+00 - ROC: 0.9630 - PRC: 0.9601\n",
      "Epoch 2/10\n",
      "94/94 [==============================] - 0s 4ms/step - loss: 0.2371 - ACC: 0.9138 - SN: 0.9894 - SP: 0.9894 - mcc: 0.0000e+00 - ROC: 0.9638 - PRC: 0.9614\n",
      "Epoch 3/10\n",
      "94/94 [==============================] - 0s 3ms/step - loss: 0.2318 - ACC: 0.9152 - SN: 0.9898 - SP: 0.9898 - mcc: 0.0000e+00 - ROC: 0.9654 - PRC: 0.9633\n",
      "Epoch 4/10\n",
      "94/94 [==============================] - 0s 3ms/step - loss: 0.2301 - ACC: 0.9148 - SN: 0.9900 - SP: 0.9900 - mcc: 0.0000e+00 - ROC: 0.9661 - PRC: 0.9642\n",
      "Epoch 5/10\n",
      "94/94 [==============================] - 0s 4ms/step - loss: 0.2279 - ACC: 0.9159 - SN: 0.9908 - SP: 0.9908 - mcc: 0.0000e+00 - ROC: 0.9668 - PRC: 0.9651\n",
      "Epoch 6/10\n",
      "94/94 [==============================] - 0s 3ms/step - loss: 0.2281 - ACC: 0.9166 - SN: 0.9911 - SP: 0.9911 - mcc: 0.0000e+00 - ROC: 0.9667 - PRC: 0.9647\n",
      "Epoch 7/10\n",
      "94/94 [==============================] - 0s 3ms/step - loss: 0.2266 - ACC: 0.9149 - SN: 0.9908 - SP: 0.9908 - mcc: 0.0000e+00 - ROC: 0.9674 - PRC: 0.9659\n",
      "Epoch 8/10\n",
      "94/94 [==============================] - 0s 3ms/step - loss: 0.2259 - ACC: 0.9164 - SN: 0.9911 - SP: 0.9911 - mcc: 0.0000e+00 - ROC: 0.9675 - PRC: 0.9662\n",
      "Epoch 9/10\n",
      "94/94 [==============================] - 0s 4ms/step - loss: 0.2238 - ACC: 0.9166 - SN: 0.9910 - SP: 0.9910 - mcc: 0.0000e+00 - ROC: 0.9682 - PRC: 0.9669\n",
      "Epoch 10/10\n",
      "94/94 [==============================] - 0s 3ms/step - loss: 0.2265 - ACC: 0.9167 - SN: 0.9908 - SP: 0.9908 - mcc: 0.0000e+00 - ROC: 0.9672 - PRC: 0.9657\n"
     ]
    }
   ],
   "source": [
    "vae=models.Sequential([encoder_final,decoder])\n",
    "vae.compile(\n",
    "    optimizer = Adam(learning_rate=lr),\n",
    "    loss = 'categorical_crossentropy',\n",
    "    metrics=general_metrics\n",
    ")\n",
    "\n",
    "his_vae=vae.fit(\n",
    "    tf.convert_to_tensor(kmer_embed.reshape([len(kmer_embed),format_size,format_size])),\n",
    "            keras.utils.to_categorical(y_train,num_classes=2),\n",
    "            epochs=EPOCH,\n",
    "            batch_size=BATCH_SIZE\n",
    ")\n"
   ]
  },
  {
   "cell_type": "markdown",
   "id": "2726a781",
   "metadata": {
    "papermill": {
     "duration": 0.06897,
     "end_time": "2023-06-15T01:28:49.786367",
     "exception": false,
     "start_time": "2023-06-15T01:28:49.717397",
     "status": "completed"
    },
    "tags": []
   },
   "source": [
    "**Build AE with ResBlock**"
   ]
  },
  {
   "cell_type": "code",
   "execution_count": 15,
   "id": "d96e3850",
   "metadata": {
    "execution": {
     "iopub.execute_input": "2023-06-15T01:28:49.927224Z",
     "iopub.status.busy": "2023-06-15T01:28:49.926841Z",
     "iopub.status.idle": "2023-06-15T01:28:49.936458Z",
     "shell.execute_reply": "2023-06-15T01:28:49.935380Z"
    },
    "papermill": {
     "duration": 0.083408,
     "end_time": "2023-06-15T01:28:49.938949",
     "exception": false,
     "start_time": "2023-06-15T01:28:49.855541",
     "status": "completed"
    },
    "tags": []
   },
   "outputs": [],
   "source": [
    "class ResBlockVar(layers.Layer):\n",
    "    def __init__(self,layer_num,units,res_stride,var=True):\n",
    "        super().__init__()\n",
    "        self.var=var\n",
    "        self.layers=[layers.Dense(units,activation=layers.LeakyReLU(0.2)) for i in range(layer_num)]\n",
    "        self.res_stride=res_stride\n",
    "    def call(self,x):\n",
    "        x_lis=[]\n",
    "        for i in range(len(self.layers)-self.res_stride):\n",
    "            if self.var:\n",
    "                x=self.layers[i](x)+self.layers[i+self.res_stride](x)\n",
    "            if not self.var:\n",
    "                if (i+1)%k==0:\n",
    "                    x=self.layers[i](x)+self.layers[i+self.res_stride](x)\n",
    "                else:\n",
    "                    x=self.layers[i](x)\n",
    "        return x"
   ]
  },
  {
   "cell_type": "code",
   "execution_count": 16,
   "id": "4c07d2cb",
   "metadata": {
    "execution": {
     "iopub.execute_input": "2023-06-15T01:28:50.081927Z",
     "iopub.status.busy": "2023-06-15T01:28:50.080921Z",
     "iopub.status.idle": "2023-06-15T01:28:57.488003Z",
     "shell.execute_reply": "2023-06-15T01:28:57.486748Z"
    },
    "papermill": {
     "duration": 7.480973,
     "end_time": "2023-06-15T01:28:57.490867",
     "exception": false,
     "start_time": "2023-06-15T01:28:50.009894",
     "status": "completed"
    },
    "tags": []
   },
   "outputs": [
    {
     "name": "stdout",
     "output_type": "stream",
     "text": [
      "Epoch 1/10\n",
      "94/94 [==============================] - 3s 4ms/step - loss: 0.3634 - ACC: 0.8953 - SN: 0.9804 - SP: 0.9804 - mcc: 0.0000e+00 - ROC: 0.9468 - PRC: 0.9405\n",
      "Epoch 2/10\n",
      "94/94 [==============================] - 0s 4ms/step - loss: 0.2894 - ACC: 0.9070 - SN: 0.9781 - SP: 0.9781 - mcc: 0.0000e+00 - ROC: 0.9462 - PRC: 0.9386\n",
      "Epoch 3/10\n",
      "94/94 [==============================] - 0s 4ms/step - loss: 0.2663 - ACC: 0.9094 - SN: 0.9828 - SP: 0.9828 - mcc: 0.0000e+00 - ROC: 0.9534 - PRC: 0.9482\n",
      "Epoch 4/10\n",
      "94/94 [==============================] - 0s 3ms/step - loss: 0.2544 - ACC: 0.9133 - SN: 0.9851 - SP: 0.9851 - mcc: 0.0000e+00 - ROC: 0.9572 - PRC: 0.9525\n",
      "Epoch 5/10\n",
      "94/94 [==============================] - 0s 4ms/step - loss: 0.2472 - ACC: 0.9132 - SN: 0.9879 - SP: 0.9879 - mcc: 0.0000e+00 - ROC: 0.9600 - PRC: 0.9561\n",
      "Epoch 6/10\n",
      "94/94 [==============================] - 0s 4ms/step - loss: 0.2439 - ACC: 0.9141 - SN: 0.9864 - SP: 0.9864 - mcc: 0.0000e+00 - ROC: 0.9611 - PRC: 0.9579\n",
      "Epoch 7/10\n",
      "94/94 [==============================] - 0s 4ms/step - loss: 0.2394 - ACC: 0.9147 - SN: 0.9884 - SP: 0.9884 - mcc: 0.0000e+00 - ROC: 0.9628 - PRC: 0.9598\n",
      "Epoch 8/10\n",
      "94/94 [==============================] - 0s 4ms/step - loss: 0.2365 - ACC: 0.9140 - SN: 0.9885 - SP: 0.9885 - mcc: 0.0000e+00 - ROC: 0.9637 - PRC: 0.9609\n",
      "Epoch 9/10\n",
      "94/94 [==============================] - 0s 4ms/step - loss: 0.2349 - ACC: 0.9144 - SN: 0.9888 - SP: 0.9888 - mcc: 0.0000e+00 - ROC: 0.9643 - PRC: 0.9620\n",
      "Epoch 10/10\n",
      "94/94 [==============================] - 0s 4ms/step - loss: 0.2318 - ACC: 0.9164 - SN: 0.9888 - SP: 0.9888 - mcc: 0.0000e+00 - ROC: 0.9652 - PRC: 0.9630\n"
     ]
    },
    {
     "data": {
      "text/plain": [
       "<keras.callbacks.History at 0x7ee5ec3039d0>"
      ]
     },
     "execution_count": 16,
     "metadata": {},
     "output_type": "execute_result"
    }
   ],
   "source": [
    "decoder_vae=models.Sequential([\n",
    "                ResBlockVar(layer_num,mid_data.shape[1],k,False),\n",
    "                layers.Flatten(),\n",
    "                layers.Dense(2, activation='softmax')\n",
    "                ])\n",
    "decoder_vae.compile(\n",
    "    optimizer = Adam(learning_rate=lr),\n",
    "    loss = 'categorical_crossentropy',\n",
    "    metrics=general_metrics\n",
    ")\n",
    "decoder_vae.fit(mid_data,\n",
    "            keras.utils.to_categorical(y_train,num_classes=2),\n",
    "            epochs=EPOCH,\n",
    "            batch_size=BATCH_SIZE\n",
    ")"
   ]
  },
  {
   "cell_type": "code",
   "execution_count": 17,
   "id": "b3c56ae8",
   "metadata": {
    "execution": {
     "iopub.execute_input": "2023-06-15T01:28:57.649579Z",
     "iopub.status.busy": "2023-06-15T01:28:57.649163Z",
     "iopub.status.idle": "2023-06-15T01:29:04.615965Z",
     "shell.execute_reply": "2023-06-15T01:29:04.614731Z"
    },
    "papermill": {
     "duration": 7.048928,
     "end_time": "2023-06-15T01:29:04.618826",
     "exception": false,
     "start_time": "2023-06-15T01:28:57.569898",
     "status": "completed"
    },
    "tags": []
   },
   "outputs": [
    {
     "name": "stdout",
     "output_type": "stream",
     "text": [
      "Epoch 1/10\n",
      "94/94 [==============================] - 2s 4ms/step - loss: 0.2316 - ACC: 0.9155 - SN: 0.9898 - SP: 0.9898 - mcc: 0.0000e+00 - ROC: 0.9652 - PRC: 0.9629\n",
      "Epoch 2/10\n",
      "94/94 [==============================] - 0s 4ms/step - loss: 0.2270 - ACC: 0.9154 - SN: 0.9904 - SP: 0.9904 - mcc: 0.0000e+00 - ROC: 0.9669 - PRC: 0.9652\n",
      "Epoch 3/10\n",
      "94/94 [==============================] - 0s 4ms/step - loss: 0.2247 - ACC: 0.9168 - SN: 0.9910 - SP: 0.9910 - mcc: 0.0000e+00 - ROC: 0.9677 - PRC: 0.9662\n",
      "Epoch 4/10\n",
      "94/94 [==============================] - 0s 4ms/step - loss: 0.2230 - ACC: 0.9177 - SN: 0.9916 - SP: 0.9916 - mcc: 0.0000e+00 - ROC: 0.9683 - PRC: 0.9669\n",
      "Epoch 5/10\n",
      "94/94 [==============================] - 0s 4ms/step - loss: 0.2214 - ACC: 0.9164 - SN: 0.9925 - SP: 0.9925 - mcc: 0.0000e+00 - ROC: 0.9688 - PRC: 0.9675\n",
      "Epoch 6/10\n",
      "94/94 [==============================] - 0s 4ms/step - loss: 0.2209 - ACC: 0.9164 - SN: 0.9914 - SP: 0.9914 - mcc: 0.0000e+00 - ROC: 0.9690 - PRC: 0.9676\n",
      "Epoch 7/10\n",
      "94/94 [==============================] - 0s 5ms/step - loss: 0.2189 - ACC: 0.9176 - SN: 0.9924 - SP: 0.9924 - mcc: 0.0000e+00 - ROC: 0.9696 - PRC: 0.9684\n",
      "Epoch 8/10\n",
      "94/94 [==============================] - 0s 4ms/step - loss: 0.2187 - ACC: 0.9177 - SN: 0.9925 - SP: 0.9925 - mcc: 0.0000e+00 - ROC: 0.9696 - PRC: 0.9684\n",
      "Epoch 9/10\n",
      "94/94 [==============================] - 0s 4ms/step - loss: 0.2182 - ACC: 0.9178 - SN: 0.9912 - SP: 0.9912 - mcc: 0.0000e+00 - ROC: 0.9698 - PRC: 0.9687\n",
      "Epoch 10/10\n",
      "94/94 [==============================] - 0s 5ms/step - loss: 0.2170 - ACC: 0.9178 - SN: 0.9933 - SP: 0.9933 - mcc: 0.0000e+00 - ROC: 0.9702 - PRC: 0.9691\n"
     ]
    }
   ],
   "source": [
    "vae_res=models.Sequential([encoder_final,decoder_vae])\n",
    "vae_res.compile(\n",
    "    optimizer = Adam(learning_rate=lr),\n",
    "    loss = 'categorical_crossentropy',\n",
    "    metrics=general_metrics\n",
    ")\n",
    "his_res=vae_res.fit(\n",
    "    tf.convert_to_tensor(kmer_embed.reshape([len(kmer_embed),format_size,format_size])),\n",
    "            keras.utils.to_categorical(y_train,num_classes=2),\n",
    "            epochs=EPOCH,\n",
    "            batch_size=BATCH_SIZE\n",
    ")"
   ]
  },
  {
   "cell_type": "markdown",
   "id": "8628f689",
   "metadata": {
    "papermill": {
     "duration": 0.086446,
     "end_time": "2023-06-15T01:29:04.792679",
     "exception": false,
     "start_time": "2023-06-15T01:29:04.706233",
     "status": "completed"
    },
    "tags": []
   },
   "source": [
    "**Build AE with ResVariant**"
   ]
  },
  {
   "cell_type": "code",
   "execution_count": 18,
   "id": "92b1794b",
   "metadata": {
    "execution": {
     "iopub.execute_input": "2023-06-15T01:29:04.968745Z",
     "iopub.status.busy": "2023-06-15T01:29:04.967512Z",
     "iopub.status.idle": "2023-06-15T01:29:10.510202Z",
     "shell.execute_reply": "2023-06-15T01:29:10.509044Z"
    },
    "papermill": {
     "duration": 5.632904,
     "end_time": "2023-06-15T01:29:10.513062",
     "exception": false,
     "start_time": "2023-06-15T01:29:04.880158",
     "status": "completed"
    },
    "tags": []
   },
   "outputs": [
    {
     "name": "stdout",
     "output_type": "stream",
     "text": [
      "Epoch 1/10\n",
      "94/94 [==============================] - 2s 4ms/step - loss: 1.3265 - ACC: 0.8866 - SN: 0.9607 - SP: 0.9607 - mcc: 0.0000e+00 - ROC: 0.9196 - PRC: 0.8966\n",
      "Epoch 2/10\n",
      "94/94 [==============================] - 0s 4ms/step - loss: 0.3664 - ACC: 0.8859 - SN: 0.9813 - SP: 0.9813 - mcc: 0.0000e+00 - ROC: 0.9426 - PRC: 0.9353\n",
      "Epoch 3/10\n",
      "94/94 [==============================] - 0s 3ms/step - loss: 0.3173 - ACC: 0.8961 - SN: 0.9811 - SP: 0.9811 - mcc: 0.0000e+00 - ROC: 0.9484 - PRC: 0.9429\n",
      "Epoch 4/10\n",
      "94/94 [==============================] - 0s 4ms/step - loss: 0.2900 - ACC: 0.9020 - SN: 0.9825 - SP: 0.9825 - mcc: 0.0000e+00 - ROC: 0.9529 - PRC: 0.9485\n",
      "Epoch 5/10\n",
      "94/94 [==============================] - 0s 4ms/step - loss: 0.2796 - ACC: 0.9042 - SN: 0.9834 - SP: 0.9834 - mcc: 0.0000e+00 - ROC: 0.9544 - PRC: 0.9497\n",
      "Epoch 6/10\n",
      "94/94 [==============================] - 0s 4ms/step - loss: 0.2744 - ACC: 0.9054 - SN: 0.9832 - SP: 0.9832 - mcc: 0.0000e+00 - ROC: 0.9550 - PRC: 0.9507\n",
      "Epoch 7/10\n",
      "94/94 [==============================] - 0s 4ms/step - loss: 0.2660 - ACC: 0.9088 - SN: 0.9859 - SP: 0.9859 - mcc: 0.0000e+00 - ROC: 0.9573 - PRC: 0.9530\n",
      "Epoch 8/10\n",
      "94/94 [==============================] - 0s 4ms/step - loss: 0.2621 - ACC: 0.9078 - SN: 0.9857 - SP: 0.9857 - mcc: 0.0000e+00 - ROC: 0.9580 - PRC: 0.9536\n",
      "Epoch 9/10\n",
      "94/94 [==============================] - 0s 4ms/step - loss: 0.2570 - ACC: 0.9080 - SN: 0.9872 - SP: 0.9872 - mcc: 0.0000e+00 - ROC: 0.9592 - PRC: 0.9549\n",
      "Epoch 10/10\n",
      "94/94 [==============================] - 0s 4ms/step - loss: 0.2623 - ACC: 0.9074 - SN: 0.9868 - SP: 0.9868 - mcc: 0.0000e+00 - ROC: 0.9580 - PRC: 0.9540\n"
     ]
    },
    {
     "data": {
      "text/plain": [
       "<keras.callbacks.History at 0x7ee5e4f06530>"
      ]
     },
     "execution_count": 18,
     "metadata": {},
     "output_type": "execute_result"
    }
   ],
   "source": [
    "decoder_var=models.Sequential([\n",
    "                ResBlockVar(layer_num,mid_data.shape[1],k),\n",
    "                layers.Flatten(),\n",
    "                layers.Dense(2, activation='softmax')\n",
    "                ])\n",
    "decoder_var.compile(\n",
    "    optimizer = Adam(learning_rate=lr),\n",
    "    loss = 'categorical_crossentropy',\n",
    "    metrics=general_metrics\n",
    ")\n",
    "decoder_var.fit(mid_data,\n",
    "            keras.utils.to_categorical(y_train,num_classes=2),\n",
    "            epochs=EPOCH,\n",
    "            batch_size=BATCH_SIZE\n",
    ")"
   ]
  },
  {
   "cell_type": "code",
   "execution_count": 19,
   "id": "713dd1a7",
   "metadata": {
    "execution": {
     "iopub.execute_input": "2023-06-15T01:29:10.706263Z",
     "iopub.status.busy": "2023-06-15T01:29:10.705843Z",
     "iopub.status.idle": "2023-06-15T01:29:17.974234Z",
     "shell.execute_reply": "2023-06-15T01:29:17.973137Z"
    },
    "papermill": {
     "duration": 7.369407,
     "end_time": "2023-06-15T01:29:17.977217",
     "exception": false,
     "start_time": "2023-06-15T01:29:10.607810",
     "status": "completed"
    },
    "tags": []
   },
   "outputs": [
    {
     "name": "stdout",
     "output_type": "stream",
     "text": [
      "Epoch 1/10\n",
      "94/94 [==============================] - 2s 5ms/step - loss: 0.2546 - ACC: 0.9093 - SN: 0.9869 - SP: 0.9869 - mcc: 0.0000e+00 - ROC: 0.9590 - PRC: 0.9550\n",
      "Epoch 2/10\n",
      "94/94 [==============================] - 0s 4ms/step - loss: 0.2447 - ACC: 0.9125 - SN: 0.9868 - SP: 0.9868 - mcc: 0.0000e+00 - ROC: 0.9620 - PRC: 0.9584\n",
      "Epoch 3/10\n",
      "94/94 [==============================] - 0s 4ms/step - loss: 0.2424 - ACC: 0.9131 - SN: 0.9891 - SP: 0.9891 - mcc: 0.0000e+00 - ROC: 0.9627 - PRC: 0.9592\n",
      "Epoch 4/10\n",
      "94/94 [==============================] - 0s 5ms/step - loss: 0.2400 - ACC: 0.9136 - SN: 0.9894 - SP: 0.9894 - mcc: 0.0000e+00 - ROC: 0.9634 - PRC: 0.9599\n",
      "Epoch 5/10\n",
      "94/94 [==============================] - 0s 4ms/step - loss: 0.2366 - ACC: 0.9143 - SN: 0.9888 - SP: 0.9888 - mcc: 0.0000e+00 - ROC: 0.9643 - PRC: 0.9614\n",
      "Epoch 6/10\n",
      "94/94 [==============================] - 0s 4ms/step - loss: 0.2351 - ACC: 0.9142 - SN: 0.9888 - SP: 0.9888 - mcc: 0.0000e+00 - ROC: 0.9644 - PRC: 0.9612\n",
      "Epoch 7/10\n",
      "94/94 [==============================] - 0s 4ms/step - loss: 0.2325 - ACC: 0.9147 - SN: 0.9897 - SP: 0.9897 - mcc: 0.0000e+00 - ROC: 0.9653 - PRC: 0.9624\n",
      "Epoch 8/10\n",
      "94/94 [==============================] - 0s 4ms/step - loss: 0.2335 - ACC: 0.9142 - SN: 0.9892 - SP: 0.9892 - mcc: 0.0000e+00 - ROC: 0.9650 - PRC: 0.9621\n",
      "Epoch 9/10\n",
      "94/94 [==============================] - 0s 4ms/step - loss: 0.2325 - ACC: 0.9156 - SN: 0.9890 - SP: 0.9890 - mcc: 0.0000e+00 - ROC: 0.9654 - PRC: 0.9632\n",
      "Epoch 10/10\n",
      "94/94 [==============================] - 0s 4ms/step - loss: 0.2284 - ACC: 0.9169 - SN: 0.9902 - SP: 0.9902 - mcc: 0.0000e+00 - ROC: 0.9664 - PRC: 0.9642\n"
     ]
    }
   ],
   "source": [
    "vae_var=models.Sequential([encoder_final,decoder_var])\n",
    "vae_var.compile(\n",
    "    optimizer = Adam(learning_rate=lr),\n",
    "    loss = 'categorical_crossentropy',\n",
    "    metrics=general_metrics\n",
    ")\n",
    "his_var=vae_var.fit(\n",
    "    tf.convert_to_tensor(kmer_embed.reshape([len(kmer_embed),format_size,format_size])),\n",
    "            keras.utils.to_categorical(y_train,num_classes=2),\n",
    "            epochs=EPOCH,\n",
    "            batch_size=BATCH_SIZE\n",
    ")"
   ]
  },
  {
   "cell_type": "markdown",
   "id": "9ef13e5e",
   "metadata": {
    "papermill": {
     "duration": 0.10358,
     "end_time": "2023-06-15T01:29:18.184925",
     "exception": false,
     "start_time": "2023-06-15T01:29:18.081345",
     "status": "completed"
    },
    "tags": []
   },
   "source": [
    "# 3.Evaluate the models"
   ]
  },
  {
   "cell_type": "code",
   "execution_count": 20,
   "id": "f3f55f0a",
   "metadata": {
    "execution": {
     "iopub.execute_input": "2023-06-15T01:29:18.397222Z",
     "iopub.status.busy": "2023-06-15T01:29:18.396798Z",
     "iopub.status.idle": "2023-06-15T01:29:22.604820Z",
     "shell.execute_reply": "2023-06-15T01:29:22.603645Z"
    },
    "papermill": {
     "duration": 4.316886,
     "end_time": "2023-06-15T01:29:22.607487",
     "exception": false,
     "start_time": "2023-06-15T01:29:18.290601",
     "status": "completed"
    },
    "tags": []
   },
   "outputs": [],
   "source": [
    "x_test_1d=tf.convert_to_tensor(np.asarray(K_mer(x_test,permute_num)))\n",
    "x_test_2d=tf.convert_to_tensor(np.asarray(K_mer(x_test,permute_num)).reshape([len(x_test),format_size,format_size]))\n",
    "y_test=tf.convert_to_tensor(keras.utils.to_categorical(y_test,num_classes=2))"
   ]
  },
  {
   "cell_type": "code",
   "execution_count": 21,
   "id": "eb206004",
   "metadata": {
    "execution": {
     "iopub.execute_input": "2023-06-15T01:29:22.813370Z",
     "iopub.status.busy": "2023-06-15T01:29:22.812947Z",
     "iopub.status.idle": "2023-06-15T01:29:28.888679Z",
     "shell.execute_reply": "2023-06-15T01:29:28.887269Z"
    },
    "papermill": {
     "duration": 6.182298,
     "end_time": "2023-06-15T01:29:28.891696",
     "exception": false,
     "start_time": "2023-06-15T01:29:22.709398",
     "status": "completed"
    },
    "tags": []
   },
   "outputs": [
    {
     "name": "stdout",
     "output_type": "stream",
     "text": [
      "151/151 [==============================] - 1s 2ms/step - loss: 0.1494 - ACC: 0.9451 - SN: 0.9996 - SP: 0.9996 - mcc: 0.0000e+00 - ROC: 0.9888 - PRC: 0.9890\n",
      "151/151 [==============================] - 1s 2ms/step - loss: 0.1449 - ACC: 0.9663 - SN: 0.9971 - SP: 0.9971 - mcc: 0.0000e+00 - ROC: 0.9918 - PRC: 0.9912\n",
      "151/151 [==============================] - 1s 2ms/step - loss: 0.1849 - ACC: 0.9368 - SN: 0.9971 - SP: 0.9971 - mcc: 0.0000e+00 - ROC: 0.9828 - PRC: 0.9820\n",
      "151/151 [==============================] - 1s 2ms/step - loss: 0.1760 - ACC: 0.9323 - SN: 0.9983 - SP: 0.9983 - mcc: 0.0000e+00 - ROC: 0.9832 - PRC: 0.9835\n",
      "151/151 [==============================] - 1s 3ms/step - loss: 0.1176 - ACC: 0.9661 - SN: 1.0000 - SP: 1.0000 - mcc: 0.0000e+00 - ROC: 0.9946 - PRC: 0.9948\n"
     ]
    }
   ],
   "source": [
    "base_score=baseline.evaluate(\n",
    "                x_test_1d,y_test\n",
    "              )\n",
    "cnn_score=cnn.evaluate(\n",
    "                x_test_2d,y_test\n",
    "              )\n",
    "vae_score=vae.evaluate(\n",
    "                x_test_2d,y_test\n",
    "                )\n",
    "res_score=vae_res.evaluate(\n",
    "               x_test_2d,y_test\n",
    "              )\n",
    "var_score=vae_var.evaluate(\n",
    "     x_test_2d,y_test\n",
    ")"
   ]
  },
  {
   "cell_type": "markdown",
   "id": "2042f980",
   "metadata": {
    "papermill": {
     "duration": 0.107848,
     "end_time": "2023-06-15T01:29:29.107549",
     "exception": false,
     "start_time": "2023-06-15T01:29:28.999701",
     "status": "completed"
    },
    "tags": []
   },
   "source": [
    "**Ablation Experiment**\n",
    "\n",
    "As we except $\\sqrt{mn(L+e_{ResVariant})\\mu^2} >\\sqrt{mn(L+e_{ResBlock})\\mu^2}$.\n",
    "\n",
    "$\\left \\|W_{ResVaraint}\\right \\| _{F}>\\left \\|W_{ResBlock}\\right \\| _{F}$\n",
    "\n",
    "Which means ResVariant have stronger representaional ability."
   ]
  },
  {
   "cell_type": "code",
   "execution_count": 22,
   "id": "ac0242dc",
   "metadata": {
    "execution": {
     "iopub.execute_input": "2023-06-15T01:29:29.322656Z",
     "iopub.status.busy": "2023-06-15T01:29:29.322218Z",
     "iopub.status.idle": "2023-06-15T01:29:29.373126Z",
     "shell.execute_reply": "2023-06-15T01:29:29.371794Z"
    },
    "papermill": {
     "duration": 0.161278,
     "end_time": "2023-06-15T01:29:29.375788",
     "exception": false,
     "start_time": "2023-06-15T01:29:29.214510",
     "status": "completed"
    },
    "tags": []
   },
   "outputs": [
    {
     "data": {
      "text/html": [
       "<div>\n",
       "<style scoped>\n",
       "    .dataframe tbody tr th:only-of-type {\n",
       "        vertical-align: middle;\n",
       "    }\n",
       "\n",
       "    .dataframe tbody tr th {\n",
       "        vertical-align: top;\n",
       "    }\n",
       "\n",
       "    .dataframe thead th {\n",
       "        text-align: right;\n",
       "    }\n",
       "</style>\n",
       "<table border=\"1\" class=\"dataframe\">\n",
       "  <thead>\n",
       "    <tr style=\"text-align: right;\">\n",
       "      <th>Model\\Criterion</th>\n",
       "      <th>ACC</th>\n",
       "      <th>SP</th>\n",
       "      <th>SN</th>\n",
       "      <th>MCC</th>\n",
       "      <th>ROC</th>\n",
       "      <th>PRC</th>\n",
       "      <th>parameters</th>\n",
       "    </tr>\n",
       "  </thead>\n",
       "  <tbody>\n",
       "    <tr>\n",
       "      <th>MLP_standard</th>\n",
       "      <td>0.945137</td>\n",
       "      <td>0.999584</td>\n",
       "      <td>0.999584</td>\n",
       "      <td>0.0</td>\n",
       "      <td>0.988768</td>\n",
       "      <td>0.989020</td>\n",
       "      <td>37260</td>\n",
       "    </tr>\n",
       "    <tr>\n",
       "      <th>CNN_standard</th>\n",
       "      <td>0.966334</td>\n",
       "      <td>0.997091</td>\n",
       "      <td>0.997091</td>\n",
       "      <td>0.0</td>\n",
       "      <td>0.991814</td>\n",
       "      <td>0.991249</td>\n",
       "      <td>34712</td>\n",
       "    </tr>\n",
       "    <tr>\n",
       "      <th>AE_standsard</th>\n",
       "      <td>0.936825</td>\n",
       "      <td>0.997091</td>\n",
       "      <td>0.997091</td>\n",
       "      <td>0.0</td>\n",
       "      <td>0.982799</td>\n",
       "      <td>0.982006</td>\n",
       "      <td>8891</td>\n",
       "    </tr>\n",
       "    <tr>\n",
       "      <th>AE_ResBlock</th>\n",
       "      <td>0.932253</td>\n",
       "      <td>0.998338</td>\n",
       "      <td>0.998338</td>\n",
       "      <td>0.0</td>\n",
       "      <td>0.983186</td>\n",
       "      <td>0.983504</td>\n",
       "      <td>9257</td>\n",
       "    </tr>\n",
       "    <tr>\n",
       "      <th>AE_ResVar</th>\n",
       "      <td>0.966126</td>\n",
       "      <td>1.000000</td>\n",
       "      <td>1.000000</td>\n",
       "      <td>0.0</td>\n",
       "      <td>0.994614</td>\n",
       "      <td>0.994757</td>\n",
       "      <td>10557</td>\n",
       "    </tr>\n",
       "  </tbody>\n",
       "</table>\n",
       "</div>"
      ],
      "text/plain": [
       "Model\\Criterion       ACC        SP        SN  MCC       ROC       PRC  \\\n",
       "MLP_standard     0.945137  0.999584  0.999584  0.0  0.988768  0.989020   \n",
       "CNN_standard     0.966334  0.997091  0.997091  0.0  0.991814  0.991249   \n",
       "AE_standsard     0.936825  0.997091  0.997091  0.0  0.982799  0.982006   \n",
       "AE_ResBlock      0.932253  0.998338  0.998338  0.0  0.983186  0.983504   \n",
       "AE_ResVar        0.966126  1.000000  1.000000  0.0  0.994614  0.994757   \n",
       "\n",
       "Model\\Criterion  parameters  \n",
       "MLP_standard          37260  \n",
       "CNN_standard          34712  \n",
       "AE_standsard           8891  \n",
       "AE_ResBlock            9257  \n",
       "AE_ResVar             10557  "
      ]
     },
     "execution_count": 22,
     "metadata": {},
     "output_type": "execute_result"
    }
   ],
   "source": [
    "import pandas as pd\n",
    "\n",
    "base_score.append(baseline.count_params())\n",
    "cnn_score.append(cnn.count_params())\n",
    "vae_score.append(vae.count_params())\n",
    "res_score.append(vae_res.count_params())\n",
    "var_score.append(vae_var.count_params())\n",
    "scores=[base_score[1:],cnn_score[1:],vae_score[1:],res_score[1:],var_score[1:]]\n",
    "criterion_names=['ACC','SP','SN',\"MCC\",'ROC','PRC',\"parameters\"]\n",
    "model_names=['MLP_standard','CNN_standard','AE_standsard','AE_ResBlock','AE_ResVar']\n",
    "\n",
    "result=pd.DataFrame(data=scores,index=model_names).rename_axis(\"Model\\Criterion\",axis=1)\n",
    "result.rename(columns={origin:new for origin,new in zip(range(len(criterion_names)),criterion_names)})"
   ]
  },
  {
   "cell_type": "markdown",
   "id": "6579e806",
   "metadata": {
    "papermill": {
     "duration": 0.108043,
     "end_time": "2023-06-15T01:29:29.591700",
     "exception": false,
     "start_time": "2023-06-15T01:29:29.483657",
     "status": "completed"
    },
    "tags": []
   },
   "source": [
    "**The accuracy during training**"
   ]
  },
  {
   "cell_type": "code",
   "execution_count": 23,
   "id": "e541442b",
   "metadata": {
    "execution": {
     "iopub.execute_input": "2023-06-15T01:29:29.807457Z",
     "iopub.status.busy": "2023-06-15T01:29:29.807035Z",
     "iopub.status.idle": "2023-06-15T01:29:30.357190Z",
     "shell.execute_reply": "2023-06-15T01:29:30.355971Z"
    },
    "papermill": {
     "duration": 0.661823,
     "end_time": "2023-06-15T01:29:30.359743",
     "exception": false,
     "start_time": "2023-06-15T01:29:29.697920",
     "status": "completed"
    },
    "tags": []
   },
   "outputs": [
    {
     "data": {
      "image/png": "[encoded data removed]",
      "text/plain": [
       "<Figure size 640x480 with 1 Axes>"
      ]
     },
     "metadata": {},
     "output_type": "display_data"
    }
   ],
   "source": [
    "import matplotlib.pyplot as plt\n",
    "#use IEEE style\n",
    "plt.style.use('classic')\n",
    "plt.rcParams.update({\n",
    "    'font.family': 'serif',\n",
    "    'font.serif': ['Times', 'Palatino', 'New Century Schoolbook', 'Bookman', 'Computer Modern Roman'],\n",
    "    'font.size': 10,\n",
    "    'axes.labelsize': 10,\n",
    "    'axes.titlesize': 10,\n",
    "    'xtick.labelsize': 8,\n",
    "    'ytick.labelsize': 8,\n",
    "    'legend.fontsize': 8,\n",
    "    'figure.titlesize': 10,\n",
    "    'lines.linewidth': 1.0,\n",
    "    'lines.markersize': 5,\n",
    "    'axes.prop_cycle': plt.cycler(color=['blue', 'red', 'green', 'orange', 'purple', 'brown', 'pink', 'gray']),\n",
    "})\n",
    "\n",
    "crteira_name='ACC'\n",
    "plt.plot(his_base.history[crteira_name])\n",
    "plt.plot(his_cnn.history[crteira_name])\n",
    "plt.plot(his_vae.history[crteira_name])\n",
    "plt.plot(his_res.history[crteira_name])\n",
    "plt.plot(his_var.history[crteira_name])\n",
    "plt.legend(model_names,loc='lower right')\n",
    "plt.savefig(\"image.png\")\n",
    "plt.show()"
   ]
  },
  {
   "cell_type": "code",
   "execution_count": 24,
   "id": "4aac15c6",
   "metadata": {
    "execution": {
     "iopub.execute_input": "2023-06-15T01:29:30.578602Z",
     "iopub.status.busy": "2023-06-15T01:29:30.578174Z",
     "iopub.status.idle": "2023-06-15T01:29:30.794950Z",
     "shell.execute_reply": "2023-06-15T01:29:30.793641Z"
    },
    "papermill": {
     "duration": 0.330237,
     "end_time": "2023-06-15T01:29:30.797695",
     "exception": false,
     "start_time": "2023-06-15T01:29:30.467458",
     "status": "completed"
    },
    "tags": []
   },
   "outputs": [],
   "source": [
    "baseline.save('mlp_standard.h5')\n",
    "cnn.save('cnn_standard.h5')\n",
    "vae.save('vae_standard.h5')\n",
    "vae_res.save('vae_res.h5')\n",
    "vae_var.save('vae_var.h5')"
   ]
  },
  {
   "cell_type": "code",
   "execution_count": 25,
   "id": "886f1284",
   "metadata": {
    "execution": {
     "iopub.execute_input": "2023-06-15T01:29:31.083349Z",
     "iopub.status.busy": "2023-06-15T01:29:31.082556Z",
     "iopub.status.idle": "2023-06-15T01:29:31.110857Z",
     "shell.execute_reply": "2023-06-15T01:29:31.109343Z"
    },
    "papermill": {
     "duration": 0.144089,
     "end_time": "2023-06-15T01:29:31.116601",
     "exception": false,
     "start_time": "2023-06-15T01:29:30.972512",
     "status": "completed"
    },
    "tags": []
   },
   "outputs": [
    {
     "name": "stdout",
     "output_type": "stream",
     "text": [
      "Model: \"sequential_2\"\n",
      "_________________________________________________________________\n",
      " Layer (type)                Output Shape              Param #   \n",
      "=================================================================\n",
      " conv1d_1 (Conv1D)           (None, 5, 2)              22        \n",
      "                                                                 \n",
      " flatten_1 (Flatten)         (None, 10)                0         \n",
      "                                                                 \n",
      " dense_9 (Dense)             (None, 128)               1408      \n",
      "                                                                 \n",
      " leaky_re_lu_6 (LeakyReLU)   (None, 128)               0         \n",
      "                                                                 \n",
      " dense_10 (Dense)            (None, 25)                3225      \n",
      "                                                                 \n",
      " leaky_re_lu_7 (LeakyReLU)   (None, 25)                0         \n",
      "                                                                 \n",
      "=================================================================\n",
      "Total params: 4,655\n",
      "Trainable params: 4,655\n",
      "Non-trainable params: 0\n",
      "_________________________________________________________________\n"
     ]
    }
   ],
   "source": [
    "encoder.summary()"
   ]
  },
  {
   "cell_type": "code",
   "execution_count": 26,
   "id": "7e45cd8d",
   "metadata": {
    "execution": {
     "iopub.execute_input": "2023-06-15T01:29:31.340946Z",
     "iopub.status.busy": "2023-06-15T01:29:31.340537Z",
     "iopub.status.idle": "2023-06-15T01:29:31.364064Z",
     "shell.execute_reply": "2023-06-15T01:29:31.363144Z"
    },
    "papermill": {
     "duration": 0.139887,
     "end_time": "2023-06-15T01:29:31.367119",
     "exception": false,
     "start_time": "2023-06-15T01:29:31.227232",
     "status": "completed"
    },
    "tags": []
   },
   "outputs": [
    {
     "name": "stdout",
     "output_type": "stream",
     "text": [
      "Model: \"sequential_7\"\n",
      "_________________________________________________________________\n",
      " Layer (type)                Output Shape              Param #   \n",
      "=================================================================\n",
      " res_block_var_1 (ResBlockVa  (None, 25)               5850      \n",
      " r)                                                              \n",
      "                                                                 \n",
      " flatten_3 (Flatten)         (None, 25)                0         \n",
      "                                                                 \n",
      " dense_33 (Dense)            (None, 2)                 52        \n",
      "                                                                 \n",
      "=================================================================\n",
      "Total params: 5,902\n",
      "Trainable params: 5,902\n",
      "Non-trainable params: 0\n",
      "_________________________________________________________________\n"
     ]
    }
   ],
   "source": [
    "decoder_var.summary()"
   ]
  },
  {
   "cell_type": "markdown",
   "id": "cffb193e",
   "metadata": {
    "papermill": {
     "duration": 0.113823,
     "end_time": "2023-06-15T01:29:31.591528",
     "exception": false,
     "start_time": "2023-06-15T01:29:31.477705",
     "status": "completed"
    },
    "tags": []
   },
   "source": [
    "# Encoding Visualization"
   ]
  },
  {
   "cell_type": "code",
   "execution_count": 27,
   "id": "52323f98",
   "metadata": {
    "execution": {
     "iopub.execute_input": "2023-06-15T01:29:31.817590Z",
     "iopub.status.busy": "2023-06-15T01:29:31.817176Z",
     "iopub.status.idle": "2023-06-15T01:29:32.770689Z",
     "shell.execute_reply": "2023-06-15T01:29:32.769519Z"
    },
    "papermill": {
     "duration": 1.069593,
     "end_time": "2023-06-15T01:29:32.773560",
     "exception": false,
     "start_time": "2023-06-15T01:29:31.703967",
     "status": "completed"
    },
    "tags": []
   },
   "outputs": [
    {
     "data": {
      "image/png": "[encoded data removed]",
      "text/plain": [
       "<Figure size 640x480 with 4 Axes>"
      ]
     },
     "metadata": {},
     "output_type": "display_data"
    }
   ],
   "source": [
    "bias=30\n",
    "for i in range(2):\n",
    "    test_sample=np.asarray(x_test_2d[i+bias])\n",
    "    plt.subplot(2,2,i+1)\n",
    "    plt.imshow(test_sample)\n",
    "    plt.subplot(2,2,i+3)\n",
    "    plt.imshow(np.asarray(encoder_final(tf.convert_to_tensor(test_sample.reshape(1,5,5)))).reshape(5,5))\n",
    "plt.savefig(\"edge_reinforce\")"
   ]
  }
 ],
 "metadata": {
  "kernelspec": {
   "display_name": "Python 3",
   "language": "python",
   "name": "python3"
  },
  "language_info": {
   "codemirror_mode": {
    "name": "ipython",
    "version": 3
   },
   "file_extension": ".py",
   "mimetype": "text/x-python",
   "name": "python",
   "nbconvert_exporter": "python",
   "pygments_lexer": "ipython3",
   "version": "3.10.10"
  },
  "papermill": {
   "default_parameters": {},
   "duration": 111.828805,
   "end_time": "2023-06-15T01:29:36.160030",
   "environment_variables": {},
   "exception": null,
   "input_path": "__notebook__.ipynb",
   "output_path": "__notebook__.ipynb",
   "parameters": {},
   "start_time": "2023-06-15T01:27:44.331225",
   "version": "2.4.0"
  }
 },
 "nbformat": 4,
 "nbformat_minor": 5
}
